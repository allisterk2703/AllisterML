{
 "cells": [
  {
   "cell_type": "code",
   "execution_count": null,
   "id": "2e364535",
   "metadata": {},
   "outputs": [],
   "source": [
    "import kagglehub\n",
    "import os\n",
    "import shutil\n",
    "\n",
    "dataset = \"heesoo37/120-years-of-olympic-history-athletes-and-results\"\n",
    "\n",
    "# Télécharger le dataset\n",
    "source_dir = kagglehub.dataset_download(dataset)\n",
    "\n",
    "# Lister uniquement les fichiers du dataset\n",
    "files = [f for f in os.listdir(source_dir) if os.path.isfile(os.path.join(source_dir, f))]\n",
    "\n",
    "if len(files) == 1:\n",
    "    # Nom formaté\n",
    "    original_name = files[0]\n",
    "    base_name = original_name.lower().replace(\" \", \"_\")\n",
    "    folder_name = os.path.splitext(base_name)[0]\n",
    "\n",
    "    # Créer le dossier cible\n",
    "    os.makedirs(folder_name, exist_ok=True)\n",
    "\n",
    "    # Copier le fichier du dataset\n",
    "    src_dataset_path = os.path.join(source_dir, original_name)\n",
    "    dst_dataset_path = os.path.join(folder_name, base_name)\n",
    "    shutil.copy2(src_dataset_path, dst_dataset_path)\n",
    "\n",
    "    # Copier le fichier example.yaml\n",
    "    template_src = os.path.join(\"example\", \"temp.yaml\")\n",
    "    template_dst = os.path.join(folder_name, f\"{folder_name}.yaml\")\n",
    "    shutil.copy2(template_src, template_dst)\n",
    "\n",
    "    print(f\"Fichier dataset copié : {original_name} ➜ {dst_dataset_path}\")\n",
    "    print(f\"Fichier template.yaml copié : {template_src} ➜ {template_dst}\")\n",
    "\n",
    "else:\n",
    "    print(f\"{len(files)} fichiers trouvés dans {source_dir}, copie annulée.\")"
   ]
  }
 ],
 "metadata": {
  "kernelspec": {
   "display_name": "base",
   "language": "python",
   "name": "python3"
  },
  "language_info": {
   "codemirror_mode": {
    "name": "ipython",
    "version": 3
   },
   "file_extension": ".py",
   "mimetype": "text/x-python",
   "name": "python",
   "nbconvert_exporter": "python",
   "pygments_lexer": "ipython3",
   "version": "3.13.5"
  }
 },
 "nbformat": 4,
 "nbformat_minor": 5
}
